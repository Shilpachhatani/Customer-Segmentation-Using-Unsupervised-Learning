{
 "cells": [
  {
   "cell_type": "markdown",
   "id": "6bde77df-280c-4e58-9088-cf456e3ac22b",
   "metadata": {},
   "source": [
    "# Customer Segmentation using K-Means\n",
    "\n",
    "## 🧩 Problem Statement\n",
    "Mall management wants to understand customer spending habits in order to create targeted marketing strategies. This project aims to segment customers into distinct groups based on age, gender, income, and spending score.\n",
    "\n",
    "## 🎯 Objective\n",
    "Use unsupervised learning (K-Means) to cluster customers, visualize the groups using PCA, and derive actionable marketing insights from the clusters.\n"
   ]
  },
  {
   "cell_type": "markdown",
   "id": "d633e083-c905-451c-b165-c27cb7b55a67",
   "metadata": {},
   "source": [
    "####  Step 1: Import Required Libraries"
   ]
  },
  {
   "cell_type": "code",
   "execution_count": null,
   "id": "5ff12125-11b3-44f0-b1b5-955f26f85ab5",
   "metadata": {},
   "outputs": [],
   "source": [
    "import pandas as pd\n",
    "import numpy as np\n",
    "import matplotlib.pyplot as plt\n",
    "import seaborn as sns\n",
    "\n",
    "from sklearn.preprocessing import StandardScaler\n",
    "from sklearn.cluster import KMeans\n",
    "from sklearn.decomposition import PCA\n"
   ]
  },
  {
   "cell_type": "markdown",
   "id": "b35c52dc-5505-411e-8192-0ff44cfb537b",
   "metadata": {},
   "source": [
    "#### Step 2: Load Dataset"
   ]
  },
  {
   "cell_type": "code",
   "execution_count": null,
   "id": "99103127-83ba-41c6-b3f0-9274dd57bef6",
   "metadata": {},
   "outputs": [],
   "source": [
    "df = pd.read_csv('../data/Mall_Customers.csv')  # Load customer dataset\n",
    "print(df.shape)\n",
    "print(df.head())"
   ]
  },
  {
   "cell_type": "markdown",
   "id": "52c61111-b1f8-4e12-83ab-5a18990fac5f",
   "metadata": {},
   "source": [
    "Insights:\n",
    "- Dataset includes 200 customer records.\n",
    "\n",
    "- Features: CustomerID, Gender, Age, Annual Income, Spending Score."
   ]
  },
  {
   "cell_type": "markdown",
   "id": "cc87e68e-2096-4a11-a761-3ea8121a3409",
   "metadata": {},
   "source": [
    "#### Step 3: Data Cleaning"
   ]
  },
  {
   "cell_type": "code",
   "execution_count": null,
   "id": "a79fdf73-ae6f-4c0d-b52c-d4d4b56e0db1",
   "metadata": {},
   "outputs": [],
   "source": [
    "\n",
    "print(df.isnull().sum())  # Check for missing values\n",
    "df_cleaned = df.drop(\"CustomerID\", axis=1)  # Drop irrelevant column\n",
    "print(df_cleaned.shape)\n",
    "print(df_cleaned.head())"
   ]
  },
  {
   "cell_type": "markdown",
   "id": "451afb90-2451-46ab-b3ca-4102fa6b6ac3",
   "metadata": {},
   "source": [
    "- No missing values in any column.\n",
    "\n",
    "- CustomerID column dropped as it's not relevant for clustering."
   ]
  },
  {
   "cell_type": "markdown",
   "id": "a62c9b23-4d2f-4eb0-9dda-c1a1c02f8d2d",
   "metadata": {},
   "source": [
    "#### Step 4: Data Preprocessing"
   ]
  },
  {
   "cell_type": "code",
   "execution_count": null,
   "id": "2db52b33-189d-44b6-89b0-dd63a0692d4c",
   "metadata": {},
   "outputs": [],
   "source": [
    "\n",
    "# Convert Gender to numeric: Male=0, Female=1\n",
    "df_cleaned['Genre'] = df_cleaned['Genre'].map({'Male': 0, 'Female': 1})\n",
    "\n",
    "# Standardize the features\n",
    "scaler = StandardScaler()\n",
    "scaled_data = scaler.fit_transform(df_cleaned)"
   ]
  },
  {
   "cell_type": "markdown",
   "id": "d06a8443-7978-466b-a4d5-6fd47a7576cb",
   "metadata": {},
   "source": [
    "- Gender converted to numeric (Male = 0, Female = 1).\n",
    "\n",
    "- All features standardized using StandardScaler to normalize scales."
   ]
  },
  {
   "cell_type": "markdown",
   "id": "16e1c7aa-be7d-48f5-8e4b-315a48e2375a",
   "metadata": {},
   "source": [
    "#### Step 5: Exploratory Data Analysis"
   ]
  },
  {
   "cell_type": "code",
   "execution_count": null,
   "id": "8d740432-d512-4847-b71f-d81e0590cd4b",
   "metadata": {},
   "outputs": [],
   "source": [
    "\n",
    "sns.histplot(df['Age'], kde=True)\n",
    "plt.title('Age Distribution')\n",
    "plt.show()\n",
    "\n"
   ]
  },
  {
   "cell_type": "markdown",
   "id": "0cb07fa1-32b2-4a8c-ab39-bd7a3c08239f",
   "metadata": {},
   "source": [
    "**Insights:**\n",
    "- Majority of mall customers are aged 20 to 40.\n",
    "\n",
    "- This shows that young and mid-age are possibly active shoppers."
   ]
  },
  {
   "cell_type": "code",
   "execution_count": null,
   "id": "746ab3c6-13e4-4903-a0d9-6692955e5d79",
   "metadata": {},
   "outputs": [],
   "source": [
    "sns.countplot(x='Genre', data=df)\n",
    "plt.title('Gender Distribution')\n",
    "plt.xticks(ticks=[0, 1], labels=['Male', 'Female'])\n",
    "plt.show()\n"
   ]
  },
  {
   "cell_type": "markdown",
   "id": "5221bb96-76dc-440a-9ab6-355c1f47d8b4",
   "metadata": {},
   "source": [
    "**Insights:**\n",
    "- Slight skew towards female customers.\n",
    "\n",
    "- Marketing strategies could be tailored with a female-oriented focus."
   ]
  },
  {
   "cell_type": "code",
   "execution_count": null,
   "id": "4a506a1e-c77f-4a88-a2d6-d1c55fae22dc",
   "metadata": {},
   "outputs": [],
   "source": [
    "sns.scatterplot(data=df, x='Annual Income (k$)', y='Spending Score (1-100)', hue='Genre')\n",
    "plt.title('Income vs Spending Score by Gender')\n",
    "plt.show()"
   ]
  },
  {
   "cell_type": "markdown",
   "id": "bef5b82f-97cb-421f-9e4d-1d52d4dc9dc0",
   "metadata": {},
   "source": [
    "**Insights:**\n",
    "- People with the same income spend very differently.\n",
    "\n",
    "- Some low earners spend a lot, and some high earners spend very little.\n",
    "\n",
    "- This tells us that spending habits don't depend only on income, so grouping customers makes sense."
   ]
  },
  {
   "cell_type": "markdown",
   "id": "6d6c042f-9eee-4594-956a-f4e5973f4b8e",
   "metadata": {},
   "source": [
    "####  Step 6: Optimal Cluster Selection (Elbow Method)"
   ]
  },
  {
   "cell_type": "code",
   "execution_count": null,
   "id": "1019ec57-5d34-4d4c-92a8-468972c02812",
   "metadata": {},
   "outputs": [],
   "source": [
    "\n",
    "inertia = []\n",
    "for k in range(1, 11):\n",
    "    km = KMeans(n_clusters=k, random_state=42, n_init=10)\n",
    "    km.fit(scaled_data)\n",
    "    inertia.append(km.inertia_)\n",
    "\n",
    "plt.plot(range(1, 11), inertia, marker='o')\n",
    "plt.title('Elbow Method for Optimal k')\n",
    "plt.xlabel('Number of clusters')\n",
    "plt.ylabel('Inertia')\n",
    "plt.grid(True)\n",
    "plt.show()\n"
   ]
  },
  {
   "cell_type": "markdown",
   "id": "8a09d62e-b8cd-49fb-8d1d-3af5892fdd75",
   "metadata": {},
   "source": [
    "**Insights:**\n",
    "- As the number of clusters increases, inertia (within-cluster variance) decreases.\n",
    "\n",
    "- A sharp drop in inertia is observed up to k = 5.\n",
    "\n",
    "- After k = 5, the rate of decrease slows, forming an \"elbow\" shape in the curve.\n",
    "\n",
    "- This suggests that 5 clusters provide a good trade-off between performance and simplicity.\n",
    "\n",
    "- Choosing more than 5 clusters leads to minimal gain in compactness while increasing complexity.\n",
    "\n",
    "**Optimal number of clusters selected: k = 5**"
   ]
  },
  {
   "cell_type": "markdown",
   "id": "a06ade0b-2acb-4271-8fbd-cc3ca32ed76d",
   "metadata": {},
   "source": [
    "#### Step 7: Model Training - Apply K-Means Clustering"
   ]
  },
  {
   "cell_type": "code",
   "execution_count": null,
   "id": "7373d87d-3ace-4375-a16e-b648b9817924",
   "metadata": {},
   "outputs": [],
   "source": [
    "\n",
    "kmeans = KMeans(n_clusters=5, random_state=42, n_init=10)\n",
    "clusters = kmeans.fit_predict(scaled_data)\n",
    "df_cleaned['Cluster'] = clusters"
   ]
  },
  {
   "cell_type": "markdown",
   "id": "35a49922-d223-4116-af41-cfd281006699",
   "metadata": {},
   "source": [
    "**Insights:**\n",
    "- K-Means was applied with 5 clusters (based on the elbow method).\n",
    "\n",
    "- Each customer was assigned to a cluster based on their spending patterns.\n",
    "\n",
    "- A new column **Cluster** was added to label each customer group.\n",
    "\n",
    "- This helps in understanding and analyzing different customer types.\n"
   ]
  },
  {
   "cell_type": "markdown",
   "id": "fbfe10cd-b8be-4a39-a391-e7444285c1dc",
   "metadata": {},
   "source": [
    "#### Step 8: Evaluate Clusters with PCA Visualization"
   ]
  },
  {
   "cell_type": "code",
   "execution_count": null,
   "id": "91657295-153a-4038-b0ce-17dd3ac46673",
   "metadata": {},
   "outputs": [],
   "source": [
    "\n",
    "pca = PCA(n_components=2)\n",
    "pca_result = pca.fit_transform(scaled_data)\n",
    "df_cleaned['PCA1'] = pca_result[:, 0]\n",
    "df_cleaned['PCA2'] = pca_result[:, 1]\n",
    "\n",
    "sns.scatterplot(data=df_cleaned, x='PCA1', y='PCA2', hue='Cluster', palette='Set1')\n",
    "plt.title('Customer Segments Visualized with PCA')\n",
    "plt.xlabel('PCA Component 1')\n",
    "plt.ylabel('PCA Component 2')\n",
    "plt.legend(title='Cluster')\n",
    "plt.tight_layout()\n",
    "plt.show()\n"
   ]
  },
  {
   "cell_type": "markdown",
   "id": "38a7a643-1cae-438e-823a-37714c566253",
   "metadata": {},
   "source": [
    "**Insights:**\n",
    "- K-Means was applied with 5 clusters (based on the elbow method).\n",
    "\n",
    "- Each customer was assigned to a cluster based on their spending patterns.\n",
    "\n",
    "- A new column **Cluster** was added to label each customer group.\n",
    "\n",
    "- This helps in understanding and analyzing different customer types.\n"
   ]
  },
  {
   "cell_type": "markdown",
   "id": "28ddf114-6b26-4732-849e-6249305ac340",
   "metadata": {},
   "source": [
    "**Insights:**\n",
    "\n",
    "- The scatter plot clearly shows 5 distinct customer groups.\n",
    "\n",
    "- Each cluster is shown in a different color on the PCA plot.\n",
    "\n",
    "- Each dot represents one customer, placed based on their behavior (like age & spending or gender & spending).\n",
    "\n",
    "- PCA helped reduce the data to 2 main features for easy visualization.\n",
    "\n",
    "- Customers in the same cluster have similar spending habits.\n",
    "\n",
    "- Some clusters are tightly packed (very similar customers), while others are more spread out (more variety).\n",
    "\n",
    " These clusters can be used to design targeted marketing strategies for each customer group.\n",
    "\n"
   ]
  },
  {
   "cell_type": "markdown",
   "id": "311112b1-286e-4d0f-ae69-b2f1002be1de",
   "metadata": {},
   "source": [
    "#### Step 9: Analyze and Profile Each Cluster"
   ]
  },
  {
   "cell_type": "code",
   "execution_count": null,
   "id": "18bdb9cb-4e50-4693-8d57-e76eacd303f6",
   "metadata": {},
   "outputs": [],
   "source": [
    "\n",
    "cluster_profiles = df_cleaned.groupby('Cluster').mean().round(2)\n",
    "print(\"Cluster Profiles:\\n\", cluster_profiles)\n"
   ]
  },
  {
   "cell_type": "markdown",
   "id": "bf229c5e-01c2-47d9-b42e-45814017428d",
   "metadata": {},
   "source": [
    "**Insights:**\n",
    "- Cluster 0: Young (33), high income(86k), very high spender (82), Slightly more female → great for premium offers & lifestyle promotions.\n",
    "\n",
    "- Cluster 1: Middle-aged (36), high income (89k$), very low spender (18), Slightly more female → hard to convince, try value-based ads or cashback                   schemes.\n",
    "\n",
    "- Cluster 2: Older (50), average income (49k$), low spender (40), all female → cautious buyers, may respond to practical offers.\n",
    "\n",
    "- Cluster 3: Very young (25), low income (40k$), high spender (61), mostly female → impulse buyers, best for trendy or seasonal deals.\n",
    "\n",
    "- Cluster 4: Older (56), average income (54k$), low spender (36), all male → prefer saving, respond to clear savings or loyalty programs."
   ]
  },
  {
   "cell_type": "markdown",
   "id": "f1509b89-7f5a-4553-95bc-dd18fd205c81",
   "metadata": {},
   "source": [
    "###  Step 10: Marketing Strategy Suggestions\n",
    "| Cluster       | Profile                                                            | Suggested Strategy                                                                              |\n",
    "| ------------- | ------------------------------------------------------------------ | ----------------------------------------------------------------------------------------------- |\n",
    "| **Cluster 0** | Young, high income, **very high spending**, mostly **female**      |  Show them new arrivals, premium brands, loyalty rewards, and early access to sales. |\n",
    "| **Cluster 1** | Middle-aged, high income, **very low spending**, mostly **female** |  Offer exclusive memberships, long-term value, and high-quality items. Focus on smart spending.     |\n",
    "| **Cluster 2** | Older, average income, **low spending**, all **female**            |  Promote useful, practical products with clear benefits. Use email or SMS offers.  |\n",
    "| **Cluster 3** | Very young, low income, **high spending**, mostly **female**       |  Use trendy products, influencers, flash sales, and social media ads to grab attention.  |\n",
    "| **Cluster 4** | Older, average income, **low spending**, all **male**              |  Focus on discounts, bundle offers, and simple loyalty programs. Keep it clear and value-based.  |\n"
   ]
  },
  {
   "cell_type": "code",
   "execution_count": null,
   "id": "d6fa1eaf-332d-4c99-9a21-bfdd40eaa4af",
   "metadata": {},
   "outputs": [],
   "source": []
  }
 ],
 "metadata": {
  "kernelspec": {
   "display_name": "Python 3 (ipykernel)",
   "language": "python",
   "name": "python3"
  },
  "language_info": {
   "codemirror_mode": {
    "name": "ipython",
    "version": 3
   },
   "file_extension": ".py",
   "mimetype": "text/x-python",
   "name": "python",
   "nbconvert_exporter": "python",
   "pygments_lexer": "ipython3",
   "version": "3.8.10"
  }
 },
 "nbformat": 4,
 "nbformat_minor": 5
}
